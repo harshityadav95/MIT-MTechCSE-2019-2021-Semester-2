{
 "cells": [
  {
   "cell_type": "markdown",
   "metadata": {},
   "source": [
    "Q.1) The Fibonacci numbers are the sequence below, where the first two numbers are 1, and\n",
    "each number thereafter is the sum of the two preceding numbers. Write a program that asks\n",
    "the user how many Fibonacci numbers to print and then prints that many. [use while and for\n",
    "loop] 1, 1, 2, 3, 5, 8, 13, 21, 34, 55, 89 . . ."
   ]
  },
  {
   "cell_type": "code",
   "execution_count": 1,
   "metadata": {},
   "outputs": [
    {
     "name": "stdout",
     "output_type": "stream",
     "text": [
      "Enter the number of Iterations :5\n",
      "[1, 1, 2, 3, 5, 8, 13]\n"
     ]
    }
   ],
   "source": [
    "storage=[1,1]\n",
    "number=int(input(\"Enter the number of Iterations :\"))\n",
    "while (number):\n",
    "    total=0\n",
    "    #key statement\n",
    "    last_elements=storage[-2:]\n",
    "    for x in last_elements:\n",
    "        total+=x\n",
    "    storage.append(total)\n",
    "    number=number-1\n",
    "print(storage)\n",
    "        "
   ]
  },
  {
   "cell_type": "markdown",
   "metadata": {},
   "source": [
    "Q. 2) Write a Python program that computes the factorial of a number. The factorial, n!, of a\n",
    "number n is the product of all the integers between 1 and n, including n.\n",
    "For instance, 5! = 1 x 2 x 3 x 4 x 5 = 120. [use while and for loop]"
   ]
  },
  {
   "cell_type": "code",
   "execution_count": 3,
   "metadata": {},
   "outputs": [
    {
     "name": "stdout",
     "output_type": "stream",
     "text": [
      "Enter the Number to calculate the factorial0\n",
      "1\n"
     ]
    }
   ],
   "source": [
    "#fact to n!\n",
    "t=int(input(\"Enter the Number to calculate the factorial\"))\n",
    "fact=1\n",
    "for i in range(1,t+1):\n",
    "    fact=fact*i\n",
    "print(fact)\n"
   ]
  },
  {
   "cell_type": "markdown",
   "metadata": {},
   "source": [
    "Q. 3) Write a Python program that asks the user to enter a string. The program should then\n",
    "print the following:\n",
    "(a) The total number of characters in the string\n",
    "(b) The string repeated 10 times\n",
    "(c) The first character of the string (remember that string indices start at 0)\n",
    "(d) The first three characters of the string\n",
    "(e) The last three characters of the string\n",
    "(f) The string backwards\n",
    "(g) The seventh character of the string if the string is long enough and a message otherwise\n",
    "(h) The string with its first and last characters removed\n",
    "(i) The string in all caps\n",
    "(j) The string with every a replaced with an e\n",
    "(k) The string with every letter replaced by a space"
   ]
  },
  {
   "cell_type": "code",
   "execution_count": null,
   "metadata": {},
   "outputs": [],
   "source": [
    "string=input(\"Enter the String :\")\n",
    "# total number of characters in the string\n"
   ]
  }
 ],
 "metadata": {
  "kernelspec": {
   "display_name": "Python 3",
   "language": "python",
   "name": "python3"
  },
  "language_info": {
   "codemirror_mode": {
    "name": "ipython",
    "version": 3
   },
   "file_extension": ".py",
   "mimetype": "text/x-python",
   "name": "python",
   "nbconvert_exporter": "python",
   "pygments_lexer": "ipython3",
   "version": "3.7.6"
  }
 },
 "nbformat": 4,
 "nbformat_minor": 2
}
